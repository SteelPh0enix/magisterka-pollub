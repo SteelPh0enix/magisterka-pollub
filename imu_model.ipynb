{
 "cells": [
  {
   "cell_type": "code",
   "execution_count": 19,
   "metadata": {},
   "outputs": [],
   "source": [
    "# helper functions and imports\n",
    "\n",
    "from numpy.random import normal as normal_rand\n",
    "import seaborn as sns\n",
    "import pandas as pd\n",
    "\n",
    "\n",
    "def frequencyToSeconds(hz: float) -> float:\n",
    "    return 1.0 / float(hz)\n",
    "\n",
    "\n",
    "def plot_points(dataframe: pd.DataFrame, x: str):\n",
    "    melted_dataframe = dataframe.melt(x, var_name=\"Columns\", value_name=\"Values\")\n",
    "    sns.catplot(data=melted_dataframe, x=x, y=\"Values\", hue=\"Columns\", kind=\"point\")\n",
    "\n",
    "\n",
    "def plot_lines(dataframe: pd.DataFrame, x: str):\n",
    "    melted_dataframe = dataframe.melt(x, var_name=\"Columns\", value_name=\"Values\")\n",
    "    sns.lineplot(data=melted_dataframe, x=x, y=\"Values\", hue=\"Columns\")\n"
   ]
  },
  {
   "cell_type": "code",
   "execution_count": 20,
   "metadata": {},
   "outputs": [],
   "source": [
    "# gyro parameters and variables\n",
    "\n",
    "gyroTrueRollValue = 0.0  # deg/s\n",
    "gyroTrueDrift = 1.0  # deg/s\n",
    "gyroSigmaNoiseAbsolute = 0.05  # deg/s\n",
    "gyroSigmaNoiseRelative = 0.03  # percent\n",
    "\n",
    "# accelerometer parameters and variables\n",
    "\n",
    "accelTrueXValue = 0.0  # g\n",
    "accelTrueXAcceleration = 0.0  # g\n",
    "accelSigmaNoiseRelative = 0.03  # percent\n",
    "\n",
    "# simulation parameters\n",
    "\n",
    "dataOutputFrequency = 100  # hz\n",
    "deltaTime = frequencyToSeconds(dataOutputFrequency)  # seconds\n",
    "simulationTime = 10  # seconds\n"
   ]
  },
  {
   "cell_type": "code",
   "execution_count": 21,
   "metadata": {},
   "outputs": [],
   "source": [
    "# run the simulation\n",
    "\n",
    "\n",
    "currentTime = 0.0\n",
    "gyroCurrentTrueRollVelocity = 0.0  # deg/s\n",
    "gyroCurrentTrueRollValue = 0.0  # deg\n",
    "gyroMeasurementValue = 0.0  # deg/s\n",
    "\n",
    "gyroTrueRollValues = []\n",
    "gyroMeasurements = []\n",
    "timePoints = []\n",
    "\n",
    "for n in range(simulationTime * dataOutputFrequency):\n",
    "    # Set gyro velocity to simulate rotation\n",
    "\n",
    "    gyroCurrentTrueRollVelocity = 0.0\n",
    "    if 1 <= currentTime < 3:\n",
    "        gyroCurrentTrueRollVelocity = 30.0\n",
    "    elif 4 <= currentTime < 5.5:\n",
    "        gyroCurrentTrueRollVelocity = -70.0\n",
    "    elif 7 <= currentTime < 9:\n",
    "        gyroCurrentTrueRollVelocity = 10.0\n",
    "\n",
    "    # generate data\n",
    "    gyroCurrentTrueRollValue += gyroCurrentTrueRollVelocity * deltaTime\n",
    "    gyroMeasurementValue = (\n",
    "        gyroCurrentTrueRollVelocity\n",
    "        - gyroTrueDrift\n",
    "        + normal_rand(0, gyroSigmaNoiseAbsolute)\n",
    "    )\n",
    "\n",
    "    gyroTrueRollValues.append(gyroCurrentTrueRollValue)\n",
    "    gyroMeasurements.append(gyroMeasurementValue)\n",
    "    timePoints.append(currentTime)\n",
    "\n",
    "    # update time\n",
    "    currentTime += deltaTime\n"
   ]
  },
  {
   "cell_type": "code",
   "execution_count": 22,
   "metadata": {},
   "outputs": [
    {
     "data": {
      "image/png": "[encoded data removed]",
      "text/plain": [
       "<Figure size 432x288 with 1 Axes>"
      ]
     },
     "metadata": {
      "needs_background": "light"
     },
     "output_type": "display_data"
    }
   ],
   "source": [
    "df = pd.DataFrame(\n",
    "    {\n",
    "        \"Time\": timePoints,\n",
    "        \"True roll\": gyroTrueRollValues,\n",
    "        # \"Measurements\": gyroMeasurements,\n",
    "    }\n",
    ")\n",
    "\n",
    "plot_lines(df, \"Time\")\n"
   ]
  }
 ],
 "metadata": {
  "kernelspec": {
   "display_name": "Python 3.10.5 64-bit ('3.10.4')",
   "language": "python",
   "name": "python3"
  },
  "language_info": {
   "codemirror_mode": {
    "name": "ipython",
    "version": 3
   },
   "file_extension": ".py",
   "mimetype": "text/x-python",
   "name": "python",
   "nbconvert_exporter": "python",
   "pygments_lexer": "ipython3",
   "version": "3.10.5"
  },
  "orig_nbformat": 4,
  "vscode": {
   "interpreter": {
    "hash": "a27d4dba4fb8d43194d41be9580661ff972a3b282d54f8dccd88b115d98aa8a0"
   }
  }
 },
 "nbformat": 4,
 "nbformat_minor": 2
}
