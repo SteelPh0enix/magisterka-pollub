{
 "cells": [
  {
   "cell_type": "markdown",
   "metadata": {},
   "source": [
    "# Generowanie danych symulujących jazdę platformy robotycznej\n",
    "\n",
    "Ten dokument prezentuje i opisuje metody generowania danych imitujących dane generowane przez czujniki przeznaczone do śledzenia trasy przebytej przez platformę robotyczną.\n",
    "Te dane zostaną następnie użyte do zweryfikowania poprawności działania filtru Kalmana, oraz algorytmów mapujących je na trasę w formie punktów na płaszczyźnie dwuwymiarowej."
   ]
  },
  {
   "cell_type": "markdown",
   "metadata": {},
   "source": []
  }
 ],
 "metadata": {
  "language_info": {
   "name": "python"
  },
  "orig_nbformat": 4
 },
 "nbformat": 4,
 "nbformat_minor": 2
}
