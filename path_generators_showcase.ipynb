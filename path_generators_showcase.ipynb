{
 "cells": [
  {
   "cell_type": "markdown",
   "metadata": {},
   "source": [
    "# Generowanie danych symulujących jazdę platformy robotycznej\n",
    "\n",
    "Ten dokument prezentuje i opisuje metody generowania danych imitujących dane generowane przez czujniki przeznaczone do śledzenia trasy przebytej przez platformę robotyczną.\n",
    "Te dane zostaną następnie użyte do zweryfikowania poprawności działania filtru Kalmana, oraz algorytmów mapujących je na trasę w formie punktów na płaszczyźnie dwuwymiarowej."
   ]
  },
  {
   "cell_type": "markdown",
   "metadata": {},
   "source": [
    "## Rodzaje badanych modułów\n",
    "\n",
    "Badane będą dane z następujących modułów:\n",
    "\n",
    "* Akcelerometr i żyroskop (MPU-6050)\n",
    "* Enkoder wieloobrotowy (przymocowany do osi koła via przełożenie)\n",
    "* Moduł optical-flow (ADNS3080)\n",
    "* Kamera Intel RealSense T265\n",
    "\n",
    "Dla każdego z modułów zostanie stworzony uproszczony model teoretyczny, pozwalający na generowanie danych z uwzględnieniem ich niedokładności.\n",
    "\n",
    "Uwzględniane parametry (oraz domyślne wartości na podstawie danych z dokumentacji i testów znalezionych w internecie):\n",
    "\n",
    "* Dla MPU-6050:\n",
    "    * Zakładamy parametry czujnika przy temperaturze 25*C (ignorujemy dryft temperaturowy w celu uproszczenia modelu), przy warunkach określonych w datasheecie\n",
    "    * Dla żyroskopu:\n",
    "        * Full-Scale Range ($\\text{FSR}$, $\\text{[º/s]}$), precyzja sterowana wzmocnieniem przetwornika żyroskopu - od ±250º/s do ±2000º/s\n",
    "        * Sensitivity Scale Factor ($\\text{SSF}$, $\\text{[LSB/(º/s)]}$), współczynnik czułości - 131 / 65.5 / 32.8 / 16.4 LSB/(º/s) przy FSR równym 250, 500, 1000 i 2000 º/s\n",
    "        * Cross-Axis Sensitivity ($\\text{CAS}$, $\\text{[\\%]}$), czułość międzyosiowa, przykładowo: wpływ ruchu w osi X oraz Z na odczyt z osi Y - 2%\n",
    "        * Zero-Rate Output ($\\text{ZRO}$, $\\text{[º/s]}$), wartość wyjściowa przy braku ruchu - ±20º/s\n",
    "        * Szum (błąd) względny pojedynczego pomiaru ($\\delta$, $\\text{[\\%]}$): ±3%\n",
    "        * Szum (błąd) bezwzględny pojedynczego pomiaru ($\\Delta$, $\\text{[deg/s-rms]}$): 0.05º/s-rms\n",
    "    * Dla akcelerometru:\n",
    "        * Full-Scale Range ($\\text{FSR}$, $\\text{[º/s]}$) - od ±2g do ±16g\n",
    "        * Sensitivity Scale Factor ($\\text{SSF}$, $\\text{[LSB/(º/s)]}$) - 16384 / 8192 / 4096 / 2048 LSB/g przy FSR równym 2 / 4 / 8 / 16 g\n",
    "        * Cross-Axis Sensitivity ($\\text{CAS}$, $\\text{[\\%]}$) - 2%\n",
    "        * Zero-Rate Output ($\\text{ZRO}$, $\\text{[º/s]}$) - ±50 mg dla osi X i Y, ±80 mg dla osi Z\n",
    "        * Szum (błąd) względny pojedynczego pomiaru ($\\delta$, $\\text{[\\%]}$): ±3%\n",
    "* Dla enkodera:\n",
    "    * Częstotliwość pomiaru ($\\text{f}$, $\\text{[Hz]}$) - do ustalenia, wstępnie 50Hz\n",
    "    * 400 kroków na obrót (Counts Per Turn, $\\text{CPT}$)\n",
    "    * Przełożenie $k = 3$ (ze względu na sposób montażu)\n",
    "    * Błąd względny ($\\delta$, $\\text{[\\%]}$) - 1%\n",
    "* Dla ADNS3080:\n",
    "    * Framerate - od 2000 do 6000 FPS\n",
    "    * Rozdzielczość - od 400 do 1600 cpi (counts per inch)\n",
    "    * Błąd bezwzględny - 5mc (mouse count), w celu obliczenia dystansu należy podzielić tą wartość przez rozdzielczość\n",
    "    * Błąd względny - 2%\n",
    "    * Ze względu na nietypowe zastosowanie (czujnik jest przeznaczony m.in do myszek komputerowych), parametry z dokumentacji mogą nie być adekwatne do rzeczywistych parametrów uzyskanych w urządzeniu, będzie konieczna ręczna kalibracja.\n",
    "* Dla Intel RealSense T265:\n",
    "    * Błąd względny - 1%\n"
   ]
  },
  {
   "cell_type": "code",
   "execution_count": 2,
   "metadata": {},
   "outputs": [],
   "source": [
    "\n"
   ]
  }
 ],
 "metadata": {
  "kernelspec": {
   "display_name": "Python 3.10.4 ('python-3Y0pODVH')",
   "language": "python",
   "name": "python3"
  },
  "language_info": {
   "codemirror_mode": {
    "name": "ipython",
    "version": 3
   },
   "file_extension": ".py",
   "mimetype": "text/x-python",
   "name": "python",
   "nbconvert_exporter": "python",
   "pygments_lexer": "ipython3",
   "version": "3.10.4"
  },
  "orig_nbformat": 4,
  "vscode": {
   "interpreter": {
    "hash": "f1ee99d8e7f4e463f7cae006f28451f038549a926de245d50bfbe82dcf30949d"
   }
  }
 },
 "nbformat": 4,
 "nbformat_minor": 2
}
