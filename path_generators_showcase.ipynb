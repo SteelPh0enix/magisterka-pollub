{
 "cells": [
  {
   "cell_type": "markdown",
   "metadata": {},
   "source": [
    "# Generowanie danych symulujących jazdę platformy robotycznej\n",
    "\n",
    "Ten dokument prezentuje i opisuje metody generacji danych imitujących dane zwracane przez czujniki przeznaczone do śledzenia trasy przebytej przez platformę robotyczną.\n",
    "Te dane zostaną następnie użyte do zweryfikowania poprawności działania filtru Kalmana, oraz algorytmów mapujących je na trasę w formie punktów na płaszczyźnie dwuwymiarowej."
   ]
  },
  {
   "cell_type": "markdown",
   "metadata": {},
   "source": [
    "## Rodzaje badanych modułów\n",
    "\n",
    "Badane będą dane z następujących modułów:\n",
    "\n",
    "* Akcelerometr <!-- i żyroskop --> (MPU-6050)\n",
    "* Enkoder wieloobrotowy (przymocowany do osi koła via przełożenie)\n",
    "* Moduł optical-flow (ADNS3080)\n",
    "* Kamera Intel RealSense T265\n",
    "\n",
    "Dla każdego z modułów zostanie stworzony uproszczony model teoretyczny, pozwalający na generowanie danych z uwzględnieniem ich niedokładności.\n",
    "\n",
    "Uwzględniane parametry (oraz domyślne wartości na podstawie danych z dokumentacji i testów znalezionych w internecie):\n",
    "\n",
    "* Dla MPU-6050:\n",
    "    * Zakładamy parametry czujnika przy temperaturze 25*C (ignorujemy dryft temperaturowy w celu uproszczenia modelu), przy warunkach określonych w datasheecie\n",
    "    <!-- * Dla żyroskopu:\n",
    "        * Full-Scale Range ($\\text{FSR}$, $\\text{[º/s]}$), precyzja sterowana wzmocnieniem przetwornika żyroskopu - od ±250º/s do ±2000º/s\n",
    "        * Sensitivity Scale Factor ($\\text{SSF}$, $\\text{[LSB/(º/s)]}$), współczynnik czułości - 131 / 65.5 / 32.8 / 16.4 LSB/(º/s) przy FSR równym 250, 500, 1000 i 2000 º/s\n",
    "        * Cross-Axis Sensitivity ($\\text{CAS}$, $\\text{[\\%]}$), czułość międzyosiowa, przykładowo: wpływ ruchu w osi X oraz Z na odczyt z osi Y - 2%\n",
    "        * Zero-Rate Output ($\\text{ZRO}$, $\\text{[º/s]}$), wartość wyjściowa przy braku ruchu - ±20º/s\n",
    "        * Szum (błąd) względny pojedynczego pomiaru ($\\delta$, $\\text{[\\%]}$): ±3%\n",
    "        * Szum (błąd) bezwzględny pojedynczego pomiaru ($\\Delta$, $\\text{[deg/s-rms]}$): 0.05º/s-rms -->\n",
    "    * Dla akcelerometru:\n",
    "        * Full-Scale Range ($\\text{FSR}$, $\\text{[g]}$) - od ±2g do ±16g\n",
    "        * Sensitivity Scale Factor ($\\text{SSF}$, $\\text{[LSB/g]}$) - 16384 / 8192 / 4096 / 2048 LSB/g przy FSR równym 2 / 4 / 8 / 16 g\n",
    "        * Cross-Axis Sensitivity ($\\text{CAS}$, $\\text{[\\%]}$) - 2%\n",
    "        * Zero-Rate Output ($\\text{ZRO}$, $\\text{[mg]}$) - ±50 mg dla osi X i Y, ±80 mg dla osi Z\n",
    "        * Szum (błąd) względny pojedynczego pomiaru ($\\delta$, $\\text{[\\%]}$): ±3%\n",
    "* Dla enkodera:\n",
    "    * Częstotliwość pomiaru ($\\text{f}$, $\\text{[Hz]}$) - do ustalenia, wstępnie 50Hz\n",
    "    * 400 kroków na obrót (Counts Per Turn, $\\text{CPT}$)\n",
    "    * Przełożenie $k = 3$ (ze względu na sposób montażu)\n",
    "    * Błąd względny ($\\delta$, $\\text{[\\%]}$) - 1%\n",
    "* Dla ADNS3080:\n",
    "    * Framerate - od 2000 do 6000 FPS\n",
    "    * Rozdzielczość - od 400 do 1600 cpi (counts per inch)\n",
    "    * Błąd bezwzględny ($\\Delta$, $\\text{[mc]}$ (mouse count)) - 5mc, w celu obliczenia dystansu należy podzielić tą wartość przez rozdzielczość\n",
    "    * Błąd względny ($\\delta$, $\\text{[\\%]}$) - 2%\n",
    "    * Ze względu na nietypowe zastosowanie (czujnik jest przeznaczony m.in do myszek komputerowych), parametry z dokumentacji mogą nie być adekwatne do rzeczywistych parametrów uzyskanych w urządzeniu, będzie konieczna ręczna kalibracja.\n",
    "* Dla Intel RealSense T265:\n",
    "    * Błąd względny ($\\delta$, $\\text{[\\%]}$) - 1%\n"
   ]
  },
  {
   "cell_type": "markdown",
   "metadata": {},
   "source": [
    "## Symulacja MPU-6050 (akcelerometr i żyroskop)\n",
    "\n",
    "MPU-6050 to cyfrowy 3-osiowy akcelerometr/żyroskop. Pomimo wykorzystania tylko 2 osi w badaniach (X oraz Y), oś Z również zostanie symulowana ze względu na CAS, które powoduje że teoretycznie zmiany w osi Z mogą wpływać na odczyty z osi X oraz Y. \n",
    "\n",
    "Zaczniemy od symulacji pojedynczej osi, z założeniem że dane zwracane przez moduł są idealne. Następnie zostaną dodane kolejne źródła zakłóceń z możliwością ich parametryzacji.\n",
    "\n",
    "Załóżmy że dane generowane przez moduł mają rozkład jednostajny, a szumy i niedokładności będą miały rozkład normalny (Gaussa). Przykładowy kod generujący losową wartość z zakresu $[a, b)$ o rozkładzie jednostajnym można wygenerować w następujący sposób:"
   ]
  },
  {
   "cell_type": "code",
   "execution_count": 1,
   "metadata": {},
   "outputs": [
    {
     "name": "stdout",
     "output_type": "stream",
     "text": [
      "8.995682071951304\n"
     ]
    }
   ],
   "source": [
    "import numpy as np\n",
    "\n",
    "a = 0\n",
    "b = 10\n",
    "\n",
    "generator = np.random.default_rng()  \n",
    "print(generator.uniform(a, b))\n"
   ]
  },
  {
   "cell_type": "markdown",
   "metadata": {},
   "source": [
    "Generując losowe wartości nie otrzymamy danych przypominających te odczytane z czujnika podczas jazdy. Gdyby wartości które otrzymamy z takiego generatora zostały zmapowane na trasę, otrzymalibyśmy dużo losowych punktów skupionych wokół punktu startu. Potencjalnym rozwiązaniem tego problemu jest dodanie logiki do generatora, która będzie sterować zakresem generowanych wartości w zależności od założonego kierunku oraz przyspieszenia.\n",
    "\n",
    "Podczas przyspieszania i zwalniania, przeciążenie powinno rosnąć a następnie maleć, proporcjonalnie do zmiany zakładanej szybkości pojazdu. Podczas jednostajnej jazdy, przyspieszenie powinno być niskie i powinny być widoczne zakłócenia związane z wibracjami i chwilowymi zmianami w szybkości pojazdu.\n",
    "\n",
    "Mamy więc trzy możliwe scenariusze - przyspieszanie, zwalnianie oraz ruch jednostajny. Parametrami dla pierwszych dwóch powinna być szybkość startowa, szybkość docelowa i czas zmiany szybkości."
   ]
  },
  {
   "cell_type": "markdown",
   "metadata": {},
   "source": [
    "### Symulacja przyspieszania pojazdu\n",
    "\n",
    "Zakładamy że przyspieszenie jest jednostajne. Zaczniemy od wygenerowania danych dotyczących przyspieszenia w czasie, które następnie zamienimy na przeciążenie."
   ]
  },
  {
   "cell_type": "code",
   "execution_count": 2,
   "metadata": {},
   "outputs": [
    {
     "name": "stdout",
     "output_type": "stream",
     "text": [
      "0.40816326530612246\n",
      "0.40816326530612246\n",
      "0.40816326530612246\n"
     ]
    },
    {
     "data": {
      "text/plain": [
       "<seaborn.axisgrid.FacetGrid at 0x2d0e80373d0>"
      ]
     },
     "execution_count": 2,
     "metadata": {},
     "output_type": "execute_result"
    },
    {
     "data": {
      "image/png": "[encoded data removed]",
      "text/plain": [
       "<Figure size 458.25x360 with 1 Axes>"
      ]
     },
     "metadata": {
      "needs_background": "light"
     },
     "output_type": "display_data"
    }
   ],
   "source": [
    "from typing import List, Tuple\n",
    "import numpy as np\n",
    "import pandas as pd\n",
    "import seaborn as sns\n",
    "\n",
    "# The code is unit-agnostic for now, but later we'll have to specify units for correct g-force calculations, so let's assume that speed unit is meters and time units are seconds\n",
    "\n",
    "\n",
    "def generate_acceleration(\n",
    "    start_speed: float, target_speed: float, acceleration_time: float, time_step: float\n",
    ") -> Tuple[List[float], List[float], List[float]]:\n",
    "    time_points_count = int(acceleration_time / time_step)\n",
    "    # Create an array with all the time points where measurements happened\n",
    "    time_points = np.linspace(0, acceleration_time, time_points_count)\n",
    "    # Map the time points to speed\n",
    "    speed_in_time = [\n",
    "        np.interp(time_point, [0, acceleration_time], [start_speed, target_speed])\n",
    "        for time_point in time_points\n",
    "    ]\n",
    "    # Calculate the acceleration from speed change\n",
    "    acceleration_in_time = np.diff(speed_in_time)\n",
    "\n",
    "    return time_points, speed_in_time, acceleration_in_time\n",
    "\n",
    "\n",
    "# Assume acceleration from 0 to 20 m/s, in 5 seconds, with 0.1s measurement frequency\n",
    "time, speed, acceleration = generate_acceleration(0, 20, 5, 0.1)\n",
    "\n",
    "# Print first few acceleration values (should be the same)\n",
    "print(acceleration[0])\n",
    "print(acceleration[1])\n",
    "print(acceleration[2])\n",
    "\n",
    "# Visualize the data\n",
    "acceleration_dataframe = pd.DataFrame(\n",
    "    list(zip(time, speed, acceleration)), columns=[\"Time\", \"Speed\", \"Acceleration\"]\n",
    ")\n",
    "\n",
    "sns.relplot(data=acceleration_dataframe, kind=\"line\")\n"
   ]
  },
  {
   "cell_type": "markdown",
   "metadata": {},
   "source": [
    "Jak widać na powyższym wykresie, wygenerowane dane są prawidłowe - akceleracja jest stała, szybkość osiąga 20m/s jednostek a czas 5s. Zgadza się również częstotliwość pomiarów - mierząc dane przez 5 sekund z częstotliwością 10Hz otrzymujemy 50 próbek."
   ]
  }
 ],
 "metadata": {
  "kernelspec": {
   "display_name": "Python 3.10.4 ('python-3Y0pODVH')",
   "language": "python",
   "name": "python3"
  },
  "language_info": {
   "codemirror_mode": {
    "name": "ipython",
    "version": 3
   },
   "file_extension": ".py",
   "mimetype": "text/x-python",
   "name": "python",
   "nbconvert_exporter": "python",
   "pygments_lexer": "ipython3",
   "version": "3.10.4"
  },
  "orig_nbformat": 4,
  "vscode": {
   "interpreter": {
    "hash": "f1ee99d8e7f4e463f7cae006f28451f038549a926de245d50bfbe82dcf30949d"
   }
  }
 },
 "nbformat": 4,
 "nbformat_minor": 2
}
