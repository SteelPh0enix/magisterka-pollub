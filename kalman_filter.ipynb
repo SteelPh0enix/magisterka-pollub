{
 "cells": [
  {
   "cell_type": "markdown",
   "metadata": {},
   "source": [
    "# Filtr Kalmana\n",
    "\n",
    "Na podstawie <https://www.kalmanfilter.net/>\n",
    "\n",
    "## Wprowadzenie i podstawowe pojęcia\n",
    "\n",
    "**Średnia** (*mean*) - średnia wartość obliczona na podstawie znanego stanu **całej** populacji\n",
    "\n",
    "$$ V_{mean} = \\frac{1}{N}\\sum^{N}_{n=1}V_n $$"
   ]
  },
  {
   "cell_type": "code",
   "execution_count": 1,
   "metadata": {},
   "outputs": [
    {
     "name": "stdout",
     "output_type": "stream",
     "text": [
      "Wartości: [ 5  5 10 10 10]\n",
      "Średnia: 8.0\n"
     ]
    }
   ],
   "source": [
    "import numpy as np\n",
    "\n",
    "coin_values = np.array([5, 5, 10, 10, 10])\n",
    "mean = np.mean(coin_values)\n",
    "\n",
    "print(f\"Wartości: {coin_values}\")\n",
    "print(f\"Średnia: {mean}\")"
   ]
  },
  {
   "cell_type": "markdown",
   "metadata": {},
   "source": [
    "**Wartość oczekiwana** (*expected value*) - wartość określająca spodziewany wynik ukrytej zmiennej\n",
    "\n",
    "$$ W = \\frac{1}{N}\\sum^{N}_{n=1}W_n $$"
   ]
  },
  {
   "cell_type": "code",
   "execution_count": 2,
   "metadata": {},
   "outputs": [
    {
     "name": "stdout",
     "output_type": "stream",
     "text": [
      "Losowe wartości: [80.24898079 80.178971   79.92640096 79.93109367 80.13316561]\n",
      "Wartość oczekiwana: 80.08372240328217\n"
     ]
    }
   ],
   "source": [
    "generator = np.random.default_rng()\n",
    "\n",
    "random_values = np.array(generator.normal(loc=80.0, scale=0.5, size=5))\n",
    "expected_value = np.mean(random_values)\n",
    "\n",
    "print(f\"Losowe wartości: {random_values}\")\n",
    "print(f\"Wartość oczekiwana: {expected_value}\")"
   ]
  },
  {
   "cell_type": "markdown",
   "metadata": {},
   "source": [
    "**Wariancja** (*variance*) - miara rozrzutu wartości zbioru od jego średniej\n",
    "\n",
    "$$ \\sigma^2 = \\frac{1}{N} \\sum^{N}_{n=1}(x_n - \\mu)^2 $$"
   ]
  },
  {
   "cell_type": "code",
   "execution_count": 3,
   "metadata": {},
   "outputs": [
    {
     "name": "stdout",
     "output_type": "stream",
     "text": [
      "Wartości: [1.49033381 2.0842751  2.24175656 1.77336786 1.71447981]\n",
      "Średnia: 1.8608426279412313\n",
      "Wariancja: 0.07227363647772106\n"
     ]
    }
   ],
   "source": [
    "# zakładamy że jest to cała populacja\n",
    "values = np.array(generator.normal(loc=1.9, scale=0.2, size=5))\n",
    "mean = np.mean(values)\n",
    "variance = np.var(values)\n",
    "\n",
    "print(f\"Wartości: {values}\")\n",
    "print(f\"Średnia: {mean}\")\n",
    "print(f\"Wariancja: {variance}\")"
   ]
  },
  {
   "cell_type": "markdown",
   "metadata": {},
   "source": [
    "**Odchylenie standardowe** (*standard deviation*) - pierwiastek kwadratowy wariancji \n",
    "\n",
    "$$ \\sigma = \\sqrt{\\sigma^2} = \\sqrt{\\frac{1}{N} \\sum^{N}_{n=1}(x_n - \\mu)^2} $$"
   ]
  },
  {
   "cell_type": "code",
   "execution_count": 4,
   "metadata": {},
   "outputs": [
    {
     "name": "stdout",
     "output_type": "stream",
     "text": [
      "Odchylenie standardowe: 0.26883756522800356\n"
     ]
    }
   ],
   "source": [
    "std_deviation = np.std(values)\n",
    "print(f\"Odchylenie standardowe: {std_deviation}\")"
   ]
  },
  {
   "cell_type": "markdown",
   "metadata": {},
   "source": [
    "Podczas **estymacji** wariancji i odchylenia standardowego z **części populacji** należy zastosować dzielnik $\\frac{1}{N-1}$ zamiast $\\frac{1}{N}$ (Poprawka Bessela)\n",
    "\n",
    "$$ \\sigma = \\sqrt{\\sigma^2} = \\sqrt{\\frac{1}{N - 1} \\sum^{N}_{n=1}(x_n - \\mu)^2} $$"
   ]
  },
  {
   "cell_type": "markdown",
   "metadata": {},
   "source": [
    "### Rozkład normalny (*normal distribution*)\n",
    "\n",
    "Rozkład normalny (rozkład Gaussa) to krzywa dzwonowa opisana następującym wzorem:\n",
    "\n",
    "$$ f(x;\\mu,\\sigma^2) = \\frac{1}{\\sqrt{2\\pi \\sigma^2}}e^{\\frac{-(x-\\mu)^2}{2\\sigma^2}} $$\n"
   ]
  },
  {
   "cell_type": "code",
   "execution_count": 5,
   "metadata": {},
   "outputs": [
    {
     "data": {
      "text/plain": [
       "<seaborn.axisgrid.FacetGrid at 0x23e3d836d70>"
      ]
     },
     "execution_count": 5,
     "metadata": {},
     "output_type": "execute_result"
    },
    {
     "data": {
      "image/png": "[encoded data removed]",
      "text/plain": [
       "<Figure size 360x360 with 1 Axes>"
      ]
     },
     "metadata": {
      "needs_background": "light"
     },
     "output_type": "display_data"
    }
   ],
   "source": [
    "import seaborn as sns\n",
    "\n",
    "values = generator.normal(loc=0.0, scale=1.0, size=10000)\n",
    "sns.displot(values, kde=True)"
   ]
  },
  {
   "cell_type": "markdown",
   "metadata": {},
   "source": [
    "### Estymacja, dokładność i precyzja\n",
    "\n",
    "**Estymacja** (oszacowanie) polega na ocenie ukrytego stanu danego systemu. Przykładem może być pozycja samolotu - nie znamy dokładnej pozycji, ale możemy ją estymować za pomocą odpowiednich czujników, takich jak radar. W przypadku pojazdów naziemnych, możemy estymować pozycję na podstawie odometrów (na przykład enkoderów) lub czujników inercyjnych.\n",
    "\n",
    "Estymacja może być znacznie poprawiona poprzez użycie różnych źródeł danych i aplikację filtrów oraz algorytmów pomagających w śledzeniu (takich jak filtr Kalmana). Każda wartość którą obliczymy na podstawie takich obserwacji jest estymatą.\n",
    "\n",
    "**Dokładność** (*accuracy*) określa jak blisko prawdziwej wartości jest wartość zmierzona.\n",
    "**Precyzja** (*precision*) określa jak bardzo różnią się od siebie wartości zmierzone dla tej samej wartości parametru (jak szeroko są rozsiane, jak duże jest ich odchylenie standardowe).\n",
    "\n",
    "Systemy o wysokiej precyzji mają niską wariancję pomiarów, a systemy o niskiej precyzji - wysoką. Wariancja jest efektem losowego błędu pomiarowego.\n",
    "\n",
    "Systemy o niskiej dokładności wprowadzają systematyczne przekłamanie (*bias*), które można stosunkowo łatwo wyeliminować poprzez odjęcie go od pomiarów, jeśli wiemy ile wynosi. Jeśli nie wiemy, lub nie możemy tego sprawdzić, nie ma innej możliwości na skompensowanie tego błędu.\n",
    "\n",
    "Niską precyzję można skompensować poprzez uśrednianie zmierzonych wartości."
   ]
  },
  {
   "cell_type": "markdown",
   "metadata": {},
   "source": [
    "## Filtr alfa-beta-gamma\n",
    "\n",
    "### Przykład 1 - pomiar wagi sztabek złota\n",
    "\n",
    "Sztabka złota to system statyczny - nie zmienia swojego stanu w czasie w którym go rozpatrujemy.\n",
    "Do pomiaru wagi użyjemy wagi z zerowym przekłamaniem (*biasem*), ale każdy pomiar będzie obarczony pewnym błędem.\n",
    "\n",
    "Żeby estymować stan systemu (wagę sztabki), możemy wykonać kilka pomiarów i je uśrednić\n",
    "\n",
    "W momencie $n$, estymata $\\hat{x}_{n,n}$ będzie średnią wszystkich poprzednich pomiarów:\n",
    "\n",
    "$$ \\hat{x}_{n,n} = \\frac{1}{n}(z_1 + z_2 + ... + z_{n-1} + z_n) = \\frac{1}{n}\\sum^{n}_{i=1}(z_i) $$\n",
    "\n",
    "gdzie:\n",
    "\n",
    "* $x$ to prawdziwa wartość wagi (której nie znamy, a którą estymujemy)\n",
    "* $z_n$ to pomiar wartości w momencie $n$\n",
    "* $\\hat{x}_{n,n}$ to estymata $x$ w momencie $n$ (po wykonaniu pomiaru $z_n$)\n",
    "* $\\hat{x}_{n,n-1}$ to poprzednia estymata $x$ w momencie $n-1$ (po wykonaniu pomiaru $z_{n-1}$)\n",
    "* $\\hat{x}_{n+1,n}$ to estymata **przyszłego** stanu $(n+1)$ zmiennej $x$. Estymata ta jest obliczona w momencie $n$ (po wykonaniu pomiaru $z_n$). Innymi słowy, jest to przewidywany stan systemu.\n",
    "\n",
    "W tym przypadku, dynamiczny model systemu jest stały, więc $\\hat{x}_{n+1,n} = \\hat{x}_{n,n}$\n",
    "\n",
    "Powyższy wzór nie jest optymalny dla naszych zastosowań, ponieważ wymaga on trzymania wszystkich zmierzonych wartości w pamięci i obliczania wszystkich poprzednich stanów w celu estymacji kolejnego. Możemy nieco zmodyfikować ten wzór do poniższej postaci (pełny dowód przedstawiony jest tutaj: <https://www.kalmanfilter.net/alphabeta.html>)\n",
    "\n",
    "$$ \\hat{x}_{n,n} = \\frac{1}{n}\\sum^{n}_{i=1}(z_i) = \\hat{x}_{n-1,n-1} + \\frac{1}{n}(z_n - \\hat{x}_{n-1,n-1}) $$\n",
    "\n",
    "gdzie $\\hat{x}_{n-1,n-1}$ jest estymowanym stanem zmiennej $x$ w momencie $n-1$, obliczonym na podstawie pomiaru wykonanego w momencie $n-1$.\n",
    "\n",
    "Jak wyżej wspomniałem, analizowany przez nas system jest statyczny, co oznacza że przewidywany stan systemu powinien być równy estymowanemu stanowi, co można zapisać w następujący sposób: $\\hat{x}_{n,n-1} = \\hat{x}_{n-1,n-1}$\n",
    "\n",
    "Na tej podstawie, można zapisać wzór na estymację aktualnego stanu na podstawie stanów poprzednich:\n",
    "\n",
    "$$ \\hat{x}_{n,n} = \\hat{x}_{n,n-1} + \\frac{1}{n}(z_n - \\hat{x}_{n,n-1}) $$\n",
    "\n",
    "Równanie to jest jednym z pięciu równań filtra Kalmana - równanie aktualizacji stanu (*State Update Equation*).\n",
    "\n",
    "Tłumacząc je na język naturalny, oznacza ono że **estymata aktualnego stanu** jest równa **przewidywanej wartości stanu** plus **mnożnik** razy (**wartość pomiaru** minus **przewidywana wartość stanu**).\n",
    "Mnożnik $\\frac{1}{n}$ jest specyficzny dla naszego przypadku - w filtrze Kalmana nazwany jest **wzmocnieniem kalmana** (*Kalman Gain*) i zmienia się z kolejnymi iteracjami filtru.\n",
    "\n",
    "Podstawiając $\\alpha_n$ za nasz mnożnik, otrzymujemy następujące równanie aktualizacji stanu:\n",
    "\n",
    "$$ \\hat{x}_{n,n} = \\hat{x}_{n,n-1} + \\alpha_n (z_n - \\hat{x}_{n,n-1}) $$\n",
    "\n",
    "$ (z_n - \\hat{x}_{n,n-1}) $ to fragment z pomiarem, nazywany również **innowacją**, ponieważ dostarcza nowe informacje.\n",
    "\n",
    "W naszym przypadku, mnożnik $\\frac{1}{n}$ zmniejsza się wraz z ilością pomiarów. Oznacza to że na początku nie mamy wystarczająco dużo informacji o aktualnym stanie, więc nowe wartości dostarczane do naszego estymatora będą miały większą wagę. Wraz z pojawianiem się kolejnych danych, będą one mieć coraz mniejszy wpływ na końcowy wynik.\n",
    "\n",
    "Zanim wykonamy pierwszy pomiar, potrzebujemy jakiejś wartości systemu za pomocą której zainicjalizujemy nasz filtr - im bliższa jest ona prawdziwemu stanowi, tym lepiej. Wartość ta nazywana jest **wstępną wartością** (*initial guess*)."
   ]
  },
  {
   "cell_type": "markdown",
   "metadata": {},
   "source": [
    "#### Algorytm estymacji\n",
    "\n",
    "Poniższy flowchart przedstawia algorytm estymacji wykorzystany w tym przykładzie:\n",
    "\n",
    "![est_1](./img//ex1_estimationAlgorithm.png)\n",
    "\n",
    "#### Przykład numeryczny\n",
    "\n",
    "##### Iteracja 0\n",
    "\n",
    "**Inicjalizacja**\n",
    "\n",
    "Załóżmy że sztabka waży 1000 gram. Ta wartość będzie wykorzystana jako wstępna wartość dla algorytmu.\n",
    "\n",
    "$$ \\hat{x}_{0,0} = 1000g $$\n",
    "\n",
    "**Predykcja**\n",
    "\n",
    "Waga sztabki nie powinna się zmienić (system jest statyczny), więc nasza estymata wynosi tyle samo co aktualny stan systemu\n",
    "\n",
    "$$ \\hat{x}_{1,0} = \\hat{x}_{0,0} = 1000g $$"
   ]
  },
  {
   "cell_type": "markdown",
   "metadata": {},
   "source": [
    "##### Iteracja 1\n",
    "\n",
    "**Krok 1**\n",
    "\n",
    "Wykonujemy pomiar\n",
    "\n",
    "$$ z_1 = 1030g $$\n",
    "\n",
    "**Krok 2**\n",
    "\n",
    "Obliczamy mnożnik. W naszym przykładzie, $\\alpha_n = \\frac{1}{n}$, więc\n",
    "\n",
    "$$ \\alpha_1 = \\frac{1}{1} = 1 $$\n",
    "\n",
    "Następnie obliczamy aktualną estymację stanu systemu za pomocą równania aktualizacji stanu\n",
    "\n",
    "$$ \\hat{x}_{1,1} = \\hat{x}_{1,0} + \\alpha_1 (z_1 - \\hat{x}_{1,0}) = 1000 + 1(1030 - 1000) = 1030g $$\n",
    "\n",
    "W tym konkretnym przypadku pierwsza zmierzona wartość zastąpiła wstępną wartość, ponieważ $\\alpha_1 = 1$,\n",
    "\n",
    "**Krok 3**\n",
    "\n",
    "Dynamiczny model systemu jest statyczny - nie przewidujemy że waga sztabki się zmieni - więc przewidywany stan systemu jest równy aktualnemu, estymowanemu stanowi\n",
    "\n",
    "$$ \\hat{x}_{2,1} = \\hat{x}_{1,1} = 1030g $$"
   ]
  },
  {
   "cell_type": "markdown",
   "metadata": {},
   "source": [
    "##### Iteracja 2\n",
    "\n",
    "Po odstępie czasowym, przewidywany stan systemu z poprzedniej iteracji staje się poprzednią estymatą\n",
    "\n",
    "$$ \\hat{x}_{2,1} = 1030g $$\n",
    "\n",
    "**Krok 1**\n",
    "\n",
    "Wykonujemy kolejny pomiar\n",
    "\n",
    "$$ z_2 = 989g $$\n",
    "\n",
    "**Krok 2**\n",
    "\n",
    "Obliczamy mnożnik\n",
    "\n",
    "$$ \\alpha_2 = \\frac{1}{2} $$\n",
    "\n",
    "oraz aktualną estymację\n",
    "\n",
    "$$ \\hat{x}_{2,2} = \\hat{x}_{2,1} + \\alpha_2 (z_2 - \\hat{x}_{2,1}) = 1030 + \\frac{1}{2}(989 - 1030) = 1009.5g $$\n",
    "\n",
    "**Krok 3**\n",
    "\n",
    "$$ \\hat{x}_{3,2} = \\hat{x}_{2,2} = 1009.5g $$\n",
    "\n",
    "etc, etc.\n",
    "\n",
    "Poniżej algorytm w postaci kodu, oraz wynik jego działania"
   ]
  },
  {
   "cell_type": "code",
   "execution_count": 26,
   "metadata": {},
   "outputs": [
    {
     "data": {
      "text/plain": [
       "<seaborn.axisgrid.FacetGrid at 0x23e275c59c0>"
      ]
     },
     "execution_count": 26,
     "metadata": {},
     "output_type": "execute_result"
    },
    {
     "data": {
      "image/png": "[encoded data removed]",
      "text/plain": [
       "<Figure size 652.375x500 with 1 Axes>"
      ]
     },
     "metadata": {},
     "output_type": "display_data"
    }
   ],
   "source": [
    "import pandas as pd\n",
    "\n",
    "\n",
    "def factor(value_index: int) -> float:\n",
    "    return 1.0 / float(value_index)\n",
    "\n",
    "\n",
    "def current_estimate(\n",
    "    predicted_value: float, value_index: int, measurement: float\n",
    ") -> float:\n",
    "    return predicted_value + (factor(value_index) * (measurement - predicted_value))\n",
    "\n",
    "\n",
    "initial_guess = 1000\n",
    "measurements = np.array([1030, 989, 1017, 1009, 1013, 979, 1008, 1042, 1012, 1011])\n",
    "# oblicz pierwszą estymatę\n",
    "estimates = np.array([current_estimate(initial_guess, 1, measurements[0])])\n",
    "# oblicz resztę\n",
    "for n in range(1, len(measurements)):\n",
    "    estimates = np.append(\n",
    "        estimates, current_estimate(estimates[n - 1], n + 1, measurements[n])\n",
    "    )\n",
    "\n",
    "# stwórz ramkę danych do wizualizacji\n",
    "\n",
    "df = pd.DataFrame(\n",
    "    {\n",
    "        \"n\": list(range(len(measurements))),\n",
    "        \"Measurements\": measurements,\n",
    "        \"Estimates\": estimates,\n",
    "        \"True value\": [1010] * len(measurements),\n",
    "    }\n",
    ")\n",
    "\n",
    "sns_df = df.melt(\"n\", var_name=\"Columns\", value_name=\"Values\")\n",
    "\n",
    "sns.catplot(data=sns_df, x=\"n\", y=\"Values\", hue=\"Columns\", kind=\"point\")\n"
   ]
  },
  {
   "cell_type": "markdown",
   "metadata": {},
   "source": [
    "Możemy zauważyć że nasz algorytm dość precyzyjnie estymował prawdziwą wartość wagi sztabki złota, która wynosi 1010g. Widzimy również że im więcej pomiarów zostało wykonanych, tym mniejszy wpływ mają na estymowaną wartość.\n",
    "\n",
    "### Przykład 2 - śledzenie trasy samolotu lecącego ze stałą prędkością (filtr alfa-beta)"
   ]
  },
  {
   "cell_type": "markdown",
   "metadata": {},
   "source": [
    "\n",
    "## Jednowymiarowy filtr Kalmana\n",
    "\n"
   ]
  }
 ],
 "metadata": {
  "kernelspec": {
   "display_name": "Python 3.10.5 64-bit ('3.10.4')",
   "language": "python",
   "name": "python3"
  },
  "language_info": {
   "codemirror_mode": {
    "name": "ipython",
    "version": 3
   },
   "file_extension": ".py",
   "mimetype": "text/x-python",
   "name": "python",
   "nbconvert_exporter": "python",
   "pygments_lexer": "ipython3",
   "version": "3.10.5"
  },
  "orig_nbformat": 4,
  "vscode": {
   "interpreter": {
    "hash": "a27d4dba4fb8d43194d41be9580661ff972a3b282d54f8dccd88b115d98aa8a0"
   }
  }
 },
 "nbformat": 4,
 "nbformat_minor": 2
}
