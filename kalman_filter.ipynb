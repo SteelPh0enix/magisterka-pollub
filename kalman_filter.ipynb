{
 "cells": [
  {
   "cell_type": "markdown",
   "metadata": {},
   "source": [
    "# Filtr Kalmana\n",
    "\n",
    "Na podstawie <https://www.kalmanfilter.net/>\n",
    "\n",
    "## Wprowadzenie i podstawowe pojęcia\n",
    "\n",
    "**Średnia** (*mean*) - średnia wartość obliczona na podstawie znanego stanu **całej** populacji\n",
    "\n",
    "$$ V_{mean} = \\frac{1}{N}\\sum^{N}_{n=1}V_n $$"
   ]
  },
  {
   "cell_type": "code",
   "execution_count": 21,
   "metadata": {},
   "outputs": [
    {
     "name": "stdout",
     "output_type": "stream",
     "text": [
      "Wartości: [ 5  5 10 10 10]\n",
      "Średnia: 8.0\n"
     ]
    }
   ],
   "source": [
    "import numpy as np\n",
    "\n",
    "coin_values = np.array([5, 5, 10, 10, 10])\n",
    "mean = np.mean(coin_values)\n",
    "\n",
    "print(f\"Wartości: {coin_values}\")\n",
    "print(f\"Średnia: {mean}\")"
   ]
  },
  {
   "cell_type": "markdown",
   "metadata": {},
   "source": [
    "**Wartość oczekiwana** (*expected value*) - wartość określająca spodziewany wynik ukrytej zmiennej\n",
    "\n",
    "$$ W = \\frac{1}{N}\\sum^{N}_{n=1}W_n $$"
   ]
  },
  {
   "cell_type": "code",
   "execution_count": 22,
   "metadata": {},
   "outputs": [
    {
     "name": "stdout",
     "output_type": "stream",
     "text": [
      "Losowe wartości: [79.39759713 80.1674425  80.88820777 79.01122841 80.80114753]\n",
      "Wartość oczekiwana: 80.05312466713512\n"
     ]
    }
   ],
   "source": [
    "generator = np.random.default_rng()\n",
    "\n",
    "random_values = np.array(generator.normal(loc=80.0, scale=0.5, size=5))\n",
    "expected_value = np.mean(random_values)\n",
    "\n",
    "print(f\"Losowe wartości: {random_values}\")\n",
    "print(f\"Wartość oczekiwana: {expected_value}\")"
   ]
  },
  {
   "cell_type": "markdown",
   "metadata": {},
   "source": [
    "**Wariancja** (*variance*) - miara rozrzutu wartości zbioru od jego średniej\n",
    "\n",
    "$$ \\sigma^2 = \\frac{1}{N} \\sum^{N}_{n=1}(x_n - \\mu)^2 $$"
   ]
  },
  {
   "cell_type": "code",
   "execution_count": 23,
   "metadata": {},
   "outputs": [
    {
     "name": "stdout",
     "output_type": "stream",
     "text": [
      "Wartości: [1.9741018  1.77908587 1.97780302 1.84067319 2.17065278]\n",
      "Średnia: 1.9484633300554244\n",
      "Wariancja: 0.01823874745723448\n"
     ]
    }
   ],
   "source": [
    "# zakładamy że jest to cała populacja\n",
    "values = np.array(generator.normal(loc=1.9, scale=0.2, size=5))\n",
    "mean = np.mean(values)\n",
    "variance = np.var(values)\n",
    "\n",
    "print(f\"Wartości: {values}\")\n",
    "print(f\"Średnia: {mean}\")\n",
    "print(f\"Wariancja: {variance}\")"
   ]
  },
  {
   "cell_type": "markdown",
   "metadata": {},
   "source": [
    "**Odchylenie standardowe** (*standard deviation*) - pierwiastek kwadratowy wariancji \n",
    "\n",
    "$$ \\sigma = \\sqrt{\\sigma^2} = \\sqrt{\\frac{1}{N} \\sum^{N}_{n=1}(x_n - \\mu)^2} $$"
   ]
  },
  {
   "cell_type": "code",
   "execution_count": 24,
   "metadata": {},
   "outputs": [
    {
     "name": "stdout",
     "output_type": "stream",
     "text": [
      "Odchylenie standardowe: 0.13505090691007773\n"
     ]
    }
   ],
   "source": [
    "std_deviation = np.std(values)\n",
    "print(f\"Odchylenie standardowe: {std_deviation}\")"
   ]
  },
  {
   "cell_type": "markdown",
   "metadata": {},
   "source": [
    "Podczas **estymacji** wariancji i odchylenia standardowego z **części populacji** należy zastosować dzielnik $\\frac{1}{N-1}$ zamiast $\\frac{1}{N}$ (Poprawka Bessela)\n",
    "\n",
    "$$ \\sigma = \\sqrt{\\sigma^2} = \\sqrt{\\frac{1}{N - 1} \\sum^{N}_{n=1}(x_n - \\mu)^2} $$"
   ]
  },
  {
   "cell_type": "markdown",
   "metadata": {},
   "source": [
    "### Rozkład normalny (*normal distribution*)\n",
    "\n",
    "Rozkład normalny (rozkład Gaussa) to krzywa dzwonowa opisana następującym wzorem:\n",
    "\n",
    "$$ f(x;\\mu,\\sigma^2) = \\frac{1}{\\sqrt{2\\pi \\sigma^2}}e^{\\frac{-(x-\\mu)^2}{2\\sigma^2}} $$\n"
   ]
  },
  {
   "cell_type": "code",
   "execution_count": 32,
   "metadata": {},
   "outputs": [
    {
     "data": {
      "text/plain": [
       "<seaborn.axisgrid.FacetGrid at 0x27dcd2c3d90>"
      ]
     },
     "execution_count": 32,
     "metadata": {},
     "output_type": "execute_result"
    },
    {
     "data": {
      "image/png": "[encoded data removed]",
      "text/plain": [
       "<Figure size 500x500 with 1 Axes>"
      ]
     },
     "metadata": {},
     "output_type": "display_data"
    }
   ],
   "source": [
    "import seaborn as sns\n",
    "\n",
    "values = generator.normal(loc=0.0, scale=1.0, size=10000)\n",
    "sns.displot(values, kde=True)"
   ]
  },
  {
   "cell_type": "markdown",
   "metadata": {},
   "source": [
    "\n",
    "## Filtr alfa-beta-gamma\n",
    "\n",
    "## Jednowymiarowy filtr Kalmana\n",
    "\n"
   ]
  }
 ],
 "metadata": {
  "kernelspec": {
   "display_name": "Python 3.10.5 64-bit ('3.10.4')",
   "language": "python",
   "name": "python3"
  },
  "language_info": {
   "codemirror_mode": {
    "name": "ipython",
    "version": 3
   },
   "file_extension": ".py",
   "mimetype": "text/x-python",
   "name": "python",
   "nbconvert_exporter": "python",
   "pygments_lexer": "ipython3",
   "version": "3.10.5"
  },
  "orig_nbformat": 4,
  "vscode": {
   "interpreter": {
    "hash": "a27d4dba4fb8d43194d41be9580661ff972a3b282d54f8dccd88b115d98aa8a0"
   }
  }
 },
 "nbformat": 4,
 "nbformat_minor": 2
}
